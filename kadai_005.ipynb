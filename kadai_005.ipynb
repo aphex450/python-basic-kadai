{
  "nbformat": 4,
  "nbformat_minor": 0,
  "metadata": {
    "colab": {
      "provenance": []
    },
    "kernelspec": {
      "name": "python3",
      "display_name": "Python 3"
    },
    "language_info": {
      "name": "python"
    }
  },
  "cells": [
    {
      "cell_type": "code",
      "execution_count": 2,
      "metadata": {
        "colab": {
          "base_uri": "https://localhost:8080/"
        },
        "id": "I29DppVn0dNF",
        "outputId": "b54cd1f3-1963-48c3-a5f0-454967697102"
      },
      "outputs": [
        {
          "output_type": "stream",
          "name": "stdout",
          "text": [
            "75.0cm\n"
          ]
        }
      ],
      "source": [
        "top = 10\n",
        "bottom = 20\n",
        "top = 10\n",
        "bottom = 20\n",
        "height = 5\n",
        "\n",
        "print(f\"{(top+bottom)*height/2}cm\")"
      ]
    }
  ]
}